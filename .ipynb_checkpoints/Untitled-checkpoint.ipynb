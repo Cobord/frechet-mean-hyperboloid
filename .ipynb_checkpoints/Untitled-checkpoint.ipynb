{
 "cells": [
  {
   "cell_type": "code",
   "execution_count": 60,
   "metadata": {},
   "outputs": [],
   "source": [
    "#https://arxiv.org/pdf/1805.08207.pdf\n",
    "\n",
    "import numpy as np\n",
    "import math\n",
    "from scipy import optimize\n",
    "\n",
    "eps=.1\n",
    "eps1=.00000000000001\n",
    "\n",
    "def minkowskiNorm(x):\n",
    "    return np.linalg.norm(x)-2*x[-1]**2\n",
    "\n",
    "def minkowskiInner(x,y):\n",
    "    return np.inner(x,y)-2*x[-1]*y[-1]\n",
    "\n",
    "def sampleFunction(x,args):\n",
    "    return x[0]**3-x[1]**2+x[2]+10*x[3]**3\n",
    "\n",
    "def doGradient(point,function,args,sphOrHyp):\n",
    "    returnValue=0\n",
    "    numArgs=point.shape\n",
    "    if (sphOrHyp=='spherical'):\n",
    "        onSphere=np.linalg.norm(point)\n",
    "        if (abs(onSphere-1)>eps):\n",
    "            print(onSphere)\n",
    "            raise ValueError('Point Should be on sphere')\n",
    "        returnValue=optimize.approx_fprime(point, function, np.ones(numArgs)*eps1, args)\n",
    "        returnValue=returnValue-np.inner(point,returnValue)*point\n",
    "    elif (sphOrHyp=='hyperbolic'):\n",
    "        onHyperboloid=minkowskiNorm(point)\n",
    "        if (abs(onHyperboloid+1)>eps or point[-1]<0):\n",
    "            print(onHyperboloid)\n",
    "            raise ValueError('Point Should be on hyperboloid')\n",
    "        returnValue=optimize.approx_fprime(point, function, np.ones(numArgs)*eps1, args)\n",
    "        returnValue[-1]=-returnValue[-1]\n",
    "        returnValue=returnValue+minkowskiInner(point,returnValue)*point\n",
    "    else:\n",
    "        raise ValueError('Only spherical or hyperbolic accepted')\n",
    "    return returnValue\n",
    "\n",
    "def expStep(point,vector,sphOrHyp):\n",
    "    returnValue=0\n",
    "    if (sphOrHyp=='spherical'):\n",
    "        onSphere=np.linalg.norm(point)\n",
    "        if (abs(onSphere-1)>eps):\n",
    "            print(onSphere)\n",
    "            raise ValueError('Point Should be on sphere')\n",
    "        isTangent=np.inner(point,vector)\n",
    "        if (abs(isTangent)>eps):\n",
    "            print(isTangent)\n",
    "            raise ValueError('Should be tangent to the sphere')\n",
    "        absV=np.linalg.norm(vector)\n",
    "        returnValue=math.cos(absV)*point+math.sin(absV)/absV*vector\n",
    "    elif (sphOrHyp=='hyperbolic'):\n",
    "        onHyperboloid=minkowskiNorm(point)\n",
    "        if (abs(onHyperboloid+1)>eps or point[-1]<0):\n",
    "            print(onHyperboloid)\n",
    "            raise ValueError('Point Should be on hyperboloid')\n",
    "        isTangent=minkowskiInner(point,vector)\n",
    "        if (abs(isTangent)>eps):\n",
    "            print(isTangent)\n",
    "            raise ValueError('Should be tangent to the hyperboloid')\n",
    "        absV=minkowskiNorm(vector)\n",
    "        returnValue=math.cosh(absV)*point+math.sinh(absV)/absV*vector\n",
    "    else:\n",
    "        raise ValueError('Only spherical or hyperbolic accepted')\n",
    "    return returnValue\n",
    "\n",
    "def gradientStep(point,function,args,sphOrHyp,alpha):\n",
    "    myGradient=doGradient(point,function,args,sphOrHyp)\n",
    "    return expStep(point,-alpha*myGradient,sphOrHyp)\n",
    "\n",
    "def gradientDescent(startingPoint,function,args,sphOrHyp,alpha,timeOut):\n",
    "    oldPoint=startingPoint\n",
    "    for i in range(timeOut):\n",
    "        newPoint=gradientStep(oldPoint,function,args,sphOrHyp,alpha)\n",
    "        if (np.linalg.norm(newPoint-oldPoint)<eps):\n",
    "            return newPoint\n",
    "        oldPoint=newPoint\n",
    "    return oldPoint"
   ]
  },
  {
   "cell_type": "code",
   "execution_count": 49,
   "metadata": {},
   "outputs": [
    {
     "data": {
      "text/plain": [
       "array([1.58058656, 1.58058656, 1.58058656, 2.91457744])"
      ]
     },
     "execution_count": 49,
     "metadata": {},
     "output_type": "execute_result"
    }
   ],
   "source": [
    "expStep(np.array([0,0,0,1]),np.array([1,1,1,0]),'hyperbolic')"
   ]
  },
  {
   "cell_type": "code",
   "execution_count": 61,
   "metadata": {},
   "outputs": [
    {
     "name": "stdout",
     "output_type": "stream",
     "text": [
      "[0.        0.        1.0658141 0.       ]\n",
      "[ 0.          0.         -1.2793771   1.62382443]\n",
      "-3.2063400188403524\n"
     ]
    }
   ],
   "source": [
    "x=doGradient(np.array([0,0,0,1]),sampleFunction,None,'hyperbolic')\n",
    "print(x)\n",
    "x=gradientStep(np.array([0,0,0,1]),sampleFunction,None,'hyperbolic',1)\n",
    "print(x)\n",
    "print(minkowskiNorm(x))"
   ]
  },
  {
   "cell_type": "code",
   "execution_count": null,
   "metadata": {},
   "outputs": [],
   "source": []
  }
 ],
 "metadata": {
  "kernelspec": {
   "display_name": "Python 3",
   "language": "python",
   "name": "python3"
  },
  "language_info": {
   "codemirror_mode": {
    "name": "ipython",
    "version": 3
   },
   "file_extension": ".py",
   "mimetype": "text/x-python",
   "name": "python",
   "nbconvert_exporter": "python",
   "pygments_lexer": "ipython3",
   "version": "3.6.4"
  }
 },
 "nbformat": 4,
 "nbformat_minor": 2
}
